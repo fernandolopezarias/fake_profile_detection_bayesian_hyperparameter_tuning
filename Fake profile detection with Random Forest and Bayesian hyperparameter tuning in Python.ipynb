{
 "cells": [
  {
   "cell_type": "markdown",
   "id": "a2c6cc0d",
   "metadata": {},
   "source": [
    "# Fake profile detection with Random Forest and Bayesian hyperparameter tuning in Python"
   ]
  },
  {
   "cell_type": "markdown",
   "id": "ecc6bef2",
   "metadata": {},
   "source": [
    "## Description:\n",
    "\n",
    "This Jupyter Notebook is designed for a comprehensive analysis of Instagram data using machine learning. It begins by loading and preprocessing the data, followed by comparing various models including Logistic Regression, K-Nearest Neighbors, Support Vector Machine, and Random Forest. \n",
    "\n",
    "The notebook then focuses on optimizing the Logistic Regression model using Optuna for hyperparameter tuning. The final sections are dedicated to training the optimized model, making predictions, evaluating performance, and exploring feature importance. \n",
    "\n",
    "The overall goal is to provide a structured approach to model selection and optimization in a real-world data analysis context."
   ]
  },
  {
   "cell_type": "markdown",
   "id": "4993127b",
   "metadata": {},
   "source": [
    "# Step 1: Load the Data"
   ]
  },
  {
   "cell_type": "code",
   "execution_count": 1,
   "id": "0e39fa63",
   "metadata": {},
   "outputs": [
    {
     "data": {
      "text/html": [
       "<div>\n",
       "<style scoped>\n",
       "    .dataframe tbody tr th:only-of-type {\n",
       "        vertical-align: middle;\n",
       "    }\n",
       "\n",
       "    .dataframe tbody tr th {\n",
       "        vertical-align: top;\n",
       "    }\n",
       "\n",
       "    .dataframe thead th {\n",
       "        text-align: right;\n",
       "    }\n",
       "</style>\n",
       "<table border=\"1\" class=\"dataframe\">\n",
       "  <thead>\n",
       "    <tr style=\"text-align: right;\">\n",
       "      <th></th>\n",
       "      <th>profile pic</th>\n",
       "      <th>nums/length username</th>\n",
       "      <th>fullname words</th>\n",
       "      <th>nums/length fullname</th>\n",
       "      <th>name==username</th>\n",
       "      <th>description length</th>\n",
       "      <th>external URL</th>\n",
       "      <th>private</th>\n",
       "      <th>#posts</th>\n",
       "      <th>#followers</th>\n",
       "      <th>#follows</th>\n",
       "      <th>fake</th>\n",
       "    </tr>\n",
       "  </thead>\n",
       "  <tbody>\n",
       "    <tr>\n",
       "      <th>0</th>\n",
       "      <td>1</td>\n",
       "      <td>0.27</td>\n",
       "      <td>0</td>\n",
       "      <td>0.0</td>\n",
       "      <td>0</td>\n",
       "      <td>53</td>\n",
       "      <td>0</td>\n",
       "      <td>0</td>\n",
       "      <td>32</td>\n",
       "      <td>1000</td>\n",
       "      <td>955</td>\n",
       "      <td>0</td>\n",
       "    </tr>\n",
       "    <tr>\n",
       "      <th>1</th>\n",
       "      <td>1</td>\n",
       "      <td>0.00</td>\n",
       "      <td>2</td>\n",
       "      <td>0.0</td>\n",
       "      <td>0</td>\n",
       "      <td>44</td>\n",
       "      <td>0</td>\n",
       "      <td>0</td>\n",
       "      <td>286</td>\n",
       "      <td>2740</td>\n",
       "      <td>533</td>\n",
       "      <td>0</td>\n",
       "    </tr>\n",
       "    <tr>\n",
       "      <th>2</th>\n",
       "      <td>1</td>\n",
       "      <td>0.10</td>\n",
       "      <td>2</td>\n",
       "      <td>0.0</td>\n",
       "      <td>0</td>\n",
       "      <td>0</td>\n",
       "      <td>0</td>\n",
       "      <td>1</td>\n",
       "      <td>13</td>\n",
       "      <td>159</td>\n",
       "      <td>98</td>\n",
       "      <td>0</td>\n",
       "    </tr>\n",
       "    <tr>\n",
       "      <th>3</th>\n",
       "      <td>1</td>\n",
       "      <td>0.00</td>\n",
       "      <td>1</td>\n",
       "      <td>0.0</td>\n",
       "      <td>0</td>\n",
       "      <td>82</td>\n",
       "      <td>0</td>\n",
       "      <td>0</td>\n",
       "      <td>679</td>\n",
       "      <td>414</td>\n",
       "      <td>651</td>\n",
       "      <td>0</td>\n",
       "    </tr>\n",
       "    <tr>\n",
       "      <th>4</th>\n",
       "      <td>1</td>\n",
       "      <td>0.00</td>\n",
       "      <td>2</td>\n",
       "      <td>0.0</td>\n",
       "      <td>0</td>\n",
       "      <td>0</td>\n",
       "      <td>0</td>\n",
       "      <td>1</td>\n",
       "      <td>6</td>\n",
       "      <td>151</td>\n",
       "      <td>126</td>\n",
       "      <td>0</td>\n",
       "    </tr>\n",
       "  </tbody>\n",
       "</table>\n",
       "</div>"
      ],
      "text/plain": [
       "   profile pic  nums/length username  fullname words  nums/length fullname  \\\n",
       "0            1                  0.27               0                   0.0   \n",
       "1            1                  0.00               2                   0.0   \n",
       "2            1                  0.10               2                   0.0   \n",
       "3            1                  0.00               1                   0.0   \n",
       "4            1                  0.00               2                   0.0   \n",
       "\n",
       "   name==username  description length  external URL  private  #posts  \\\n",
       "0               0                  53             0        0      32   \n",
       "1               0                  44             0        0     286   \n",
       "2               0                   0             0        1      13   \n",
       "3               0                  82             0        0     679   \n",
       "4               0                   0             0        1       6   \n",
       "\n",
       "   #followers  #follows  fake  \n",
       "0        1000       955     0  \n",
       "1        2740       533     0  \n",
       "2         159        98     0  \n",
       "3         414       651     0  \n",
       "4         151       126     0  "
      ]
     },
     "execution_count": 1,
     "metadata": {},
     "output_type": "execute_result"
    }
   ],
   "source": [
    "import pandas as pd\n",
    "\n",
    "# Specify data path for the model\n",
    "file_path = 'input_file_path'\n",
    "\n",
    "# Load the data\n",
    "df = pd.read_csv(file_path)\n",
    "\n",
    "# Display the first five rows of the DataFrame to check the headers and top entries\n",
    "df.head()"
   ]
  },
  {
   "cell_type": "markdown",
   "id": "e1d8dd7e",
   "metadata": {},
   "source": [
    "# Step 2: Preprocess the Data"
   ]
  },
  {
   "cell_type": "code",
   "execution_count": 2,
   "id": "b62cf6e6",
   "metadata": {},
   "outputs": [
    {
     "name": "stdout",
     "output_type": "stream",
     "text": [
      "Feature matrix and target vector created.\n",
      "Features have been standardized.\n",
      "Data has been split into training and test sets.\n"
     ]
    }
   ],
   "source": [
    "from sklearn.model_selection import train_test_split\n",
    "from sklearn.preprocessing import StandardScaler\n",
    "\n",
    "# Assume 'fake' is the target variable\n",
    "X = df.drop('fake', axis=1)\n",
    "y = df['fake']\n",
    "print(\"Feature matrix and target vector created.\")\n",
    "\n",
    "# Standardize the features\n",
    "scaler = StandardScaler()\n",
    "X_scaled = scaler.fit_transform(X)\n",
    "print(\"Features have been standardized.\")\n",
    "\n",
    "# Split the data into training and test sets\n",
    "X_train, X_test, y_train, y_test = train_test_split(X_scaled, y, test_size=0.2, random_state=42)\n",
    "print(\"Data has been split into training and test sets.\")"
   ]
  },
  {
   "cell_type": "markdown",
   "id": "d32b5307",
   "metadata": {},
   "source": [
    "# Section 3: Explore Different Models"
   ]
  },
  {
   "cell_type": "code",
   "execution_count": 3,
   "id": "ca2495e3",
   "metadata": {},
   "outputs": [
    {
     "name": "stdout",
     "output_type": "stream",
     "text": [
      "Model: Logistic Regression\n",
      "Accuracy Score: 0.8620689655172413\n",
      "Classification Report:\n",
      "               precision    recall  f1-score   support\n",
      "\n",
      "           0       0.82      0.95      0.88        63\n",
      "           1       0.93      0.75      0.83        53\n",
      "\n",
      "    accuracy                           0.86       116\n",
      "   macro avg       0.88      0.85      0.86       116\n",
      "weighted avg       0.87      0.86      0.86       116\n",
      "\n",
      "------------------------------------------------------\n",
      "\n",
      "Model: K-Nearest Neighbors\n",
      "Accuracy Score: 0.8706896551724138\n",
      "Classification Report:\n",
      "               precision    recall  f1-score   support\n",
      "\n",
      "           0       0.85      0.92      0.89        63\n",
      "           1       0.90      0.81      0.85        53\n",
      "\n",
      "    accuracy                           0.87       116\n",
      "   macro avg       0.87      0.87      0.87       116\n",
      "weighted avg       0.87      0.87      0.87       116\n",
      "\n",
      "------------------------------------------------------\n",
      "\n",
      "Model: Support Vector Machine\n",
      "Accuracy Score: 0.8706896551724138\n",
      "Classification Report:\n",
      "               precision    recall  f1-score   support\n",
      "\n",
      "           0       0.82      0.97      0.89        63\n",
      "           1       0.95      0.75      0.84        53\n",
      "\n",
      "    accuracy                           0.87       116\n",
      "   macro avg       0.89      0.86      0.87       116\n",
      "weighted avg       0.88      0.87      0.87       116\n",
      "\n",
      "------------------------------------------------------\n",
      "\n",
      "Model: Random Forest\n",
      "Accuracy Score: 0.9137931034482759\n",
      "Classification Report:\n",
      "               precision    recall  f1-score   support\n",
      "\n",
      "           0       0.88      0.97      0.92        63\n",
      "           1       0.96      0.85      0.90        53\n",
      "\n",
      "    accuracy                           0.91       116\n",
      "   macro avg       0.92      0.91      0.91       116\n",
      "weighted avg       0.92      0.91      0.91       116\n",
      "\n",
      "------------------------------------------------------\n",
      "\n"
     ]
    }
   ],
   "source": [
    "from sklearn.linear_model import LogisticRegression\n",
    "from sklearn.neighbors import KNeighborsClassifier\n",
    "from sklearn.svm import SVC\n",
    "from sklearn.ensemble import RandomForestClassifier\n",
    "from sklearn.metrics import classification_report, accuracy_score\n",
    "\n",
    "# Define models\n",
    "models = {\n",
    "    \"Logistic Regression\": LogisticRegression(),\n",
    "    \"K-Nearest Neighbors\": KNeighborsClassifier(),\n",
    "    \"Support Vector Machine\": SVC(),\n",
    "    \"Random Forest\": RandomForestClassifier()\n",
    "}\n",
    "\n",
    "# Train and evaluate models\n",
    "for name, model in models.items():\n",
    "    model.fit(X_train, y_train)\n",
    "    y_pred = model.predict(X_test)\n",
    "    print(f\"Model: {name}\")\n",
    "    print(\"Accuracy Score:\", accuracy_score(y_test, y_pred))\n",
    "    print('Classification Report:\\n', classification_report(y_test, y_pred))\n",
    "    print('------------------------------------------------------\\n')"
   ]
  },
  {
   "cell_type": "markdown",
   "id": "13ae5dcc",
   "metadata": {},
   "source": [
    "# Step 4: Perform Cross-Validation and Hyperparameter Tuning for Random Forest Using Optuna"
   ]
  },
  {
   "cell_type": "code",
   "execution_count": 7,
   "id": "3c3daff4",
   "metadata": {},
   "outputs": [
    {
     "name": "stdout",
     "output_type": "stream",
     "text": [
      "Collecting optuna\n",
      "  Downloading optuna-3.4.0-py3-none-any.whl (409 kB)\n",
      "     -------------------------------------- 409.6/409.6 kB 6.4 MB/s eta 0:00:00\n",
      "Requirement already satisfied: tqdm in c:\\users\\ferna\\onedrive\\documents\\skills\\anaconda\\lib\\site-packages (from optuna) (4.64.1)\n",
      "Collecting colorlog\n",
      "  Downloading colorlog-6.8.0-py3-none-any.whl (11 kB)\n",
      "Collecting alembic>=1.5.0\n",
      "  Downloading alembic-1.13.0-py3-none-any.whl (230 kB)\n",
      "     -------------------------------------- 230.6/230.6 kB 2.3 MB/s eta 0:00:00\n",
      "Requirement already satisfied: packaging>=20.0 in c:\\users\\ferna\\onedrive\\documents\\skills\\anaconda\\lib\\site-packages (from optuna) (22.0)\n",
      "Requirement already satisfied: numpy in c:\\users\\ferna\\onedrive\\documents\\skills\\anaconda\\lib\\site-packages (from optuna) (1.23.5)\n",
      "Requirement already satisfied: sqlalchemy>=1.3.0 in c:\\users\\ferna\\onedrive\\documents\\skills\\anaconda\\lib\\site-packages (from optuna) (1.4.39)\n",
      "Requirement already satisfied: PyYAML in c:\\users\\ferna\\onedrive\\documents\\skills\\anaconda\\lib\\site-packages (from optuna) (6.0)\n",
      "Collecting Mako\n",
      "  Downloading Mako-1.3.0-py3-none-any.whl (78 kB)\n",
      "     ---------------------------------------- 78.6/78.6 kB 4.3 MB/s eta 0:00:00\n",
      "Requirement already satisfied: typing-extensions>=4 in c:\\users\\ferna\\onedrive\\documents\\skills\\anaconda\\lib\\site-packages (from alembic>=1.5.0->optuna) (4.4.0)\n",
      "Requirement already satisfied: greenlet!=0.4.17 in c:\\users\\ferna\\onedrive\\documents\\skills\\anaconda\\lib\\site-packages (from sqlalchemy>=1.3.0->optuna) (2.0.1)\n",
      "Requirement already satisfied: colorama in c:\\users\\ferna\\onedrive\\documents\\skills\\anaconda\\lib\\site-packages (from colorlog->optuna) (0.4.6)\n",
      "Requirement already satisfied: MarkupSafe>=0.9.2 in c:\\users\\ferna\\onedrive\\documents\\skills\\anaconda\\lib\\site-packages (from Mako->alembic>=1.5.0->optuna) (2.1.1)\n",
      "Installing collected packages: Mako, colorlog, alembic, optuna\n",
      "Successfully installed Mako-1.3.0 alembic-1.13.0 colorlog-6.8.0 optuna-3.4.0\n"
     ]
    }
   ],
   "source": [
    "# Install Optuna if it's not already installed\n",
    "!pip install optuna"
   ]
  },
  {
   "cell_type": "code",
   "execution_count": 4,
   "id": "98f7ffe6",
   "metadata": {},
   "outputs": [
    {
     "name": "stderr",
     "output_type": "stream",
     "text": [
      "[I 2023-12-07 10:57:57,739] A new study created in memory with name: no-name-2a933841-4af0-4b75-a95b-db5f9456c2d1\n",
      "[I 2023-12-07 10:57:58,121] Trial 0 finished with value: 0.8978260869565219 and parameters: {'n_estimators': 71, 'max_depth': 19, 'min_samples_split': 3, 'min_samples_leaf': 52}. Best is trial 0 with value: 0.8978260869565219.\n",
      "[I 2023-12-07 10:57:59,337] Trial 1 finished with value: 0.9130434782608695 and parameters: {'n_estimators': 223, 'max_depth': 3, 'min_samples_split': 25, 'min_samples_leaf': 27}. Best is trial 1 with value: 0.9130434782608695.\n",
      "[I 2023-12-07 10:58:00,305] Trial 2 finished with value: 0.9043478260869564 and parameters: {'n_estimators': 175, 'max_depth': 16, 'min_samples_split': 30, 'min_samples_leaf': 39}. Best is trial 1 with value: 0.9130434782608695.\n",
      "[I 2023-12-07 10:58:01,895] Trial 3 finished with value: 0.9065217391304348 and parameters: {'n_estimators': 282, 'max_depth': 2, 'min_samples_split': 143, 'min_samples_leaf': 5}. Best is trial 1 with value: 0.9130434782608695.\n",
      "[I 2023-12-07 10:58:03,369] Trial 4 finished with value: 0.9043478260869564 and parameters: {'n_estimators': 290, 'max_depth': 22, 'min_samples_split': 38, 'min_samples_leaf': 42}. Best is trial 1 with value: 0.9130434782608695.\n",
      "[I 2023-12-07 10:58:03,565] Trial 5 finished with value: 0.8869565217391304 and parameters: {'n_estimators': 30, 'max_depth': 2, 'min_samples_split': 66, 'min_samples_leaf': 5}. Best is trial 1 with value: 0.9130434782608695.\n",
      "[I 2023-12-07 10:58:04,198] Trial 6 finished with value: 0.9086956521739129 and parameters: {'n_estimators': 118, 'max_depth': 4, 'min_samples_split': 130, 'min_samples_leaf': 20}. Best is trial 1 with value: 0.9130434782608695.\n",
      "[I 2023-12-07 10:58:05,534] Trial 7 finished with value: 0.9086956521739131 and parameters: {'n_estimators': 254, 'max_depth': 13, 'min_samples_split': 103, 'min_samples_leaf': 24}. Best is trial 1 with value: 0.9130434782608695.\n",
      "[I 2023-12-07 10:58:05,953] Trial 8 finished with value: 0.9021739130434783 and parameters: {'n_estimators': 72, 'max_depth': 18, 'min_samples_split': 144, 'min_samples_leaf': 55}. Best is trial 1 with value: 0.9130434782608695.\n",
      "[I 2023-12-07 10:58:06,181] Trial 9 finished with value: 0.9043478260869564 and parameters: {'n_estimators': 43, 'max_depth': 7, 'min_samples_split': 114, 'min_samples_leaf': 29}. Best is trial 1 with value: 0.9130434782608695.\n",
      "[I 2023-12-07 10:58:07,370] Trial 10 finished with value: 0.9195652173913043 and parameters: {'n_estimators': 212, 'max_depth': 4, 'min_samples_split': 69, 'min_samples_leaf': 18}. Best is trial 10 with value: 0.9195652173913043.\n",
      "[I 2023-12-07 10:58:08,630] Trial 11 finished with value: 0.9195652173913043 and parameters: {'n_estimators': 211, 'max_depth': 4, 'min_samples_split': 72, 'min_samples_leaf': 16}. Best is trial 10 with value: 0.9195652173913043.\n",
      "[I 2023-12-07 10:58:09,722] Trial 12 finished with value: 0.9130434782608695 and parameters: {'n_estimators': 187, 'max_depth': 5, 'min_samples_split': 77, 'min_samples_leaf': 18}. Best is trial 10 with value: 0.9195652173913043.\n",
      "[I 2023-12-07 10:58:10,963] Trial 13 finished with value: 0.9195652173913043 and parameters: {'n_estimators': 219, 'max_depth': 7, 'min_samples_split': 72, 'min_samples_leaf': 13}. Best is trial 10 with value: 0.9195652173913043.\n",
      "[I 2023-12-07 10:58:11,695] Trial 14 finished with value: 0.9173913043478261 and parameters: {'n_estimators': 130, 'max_depth': 3, 'min_samples_split': 89, 'min_samples_leaf': 11}. Best is trial 10 with value: 0.9195652173913043.\n",
      "[I 2023-12-07 10:58:12,944] Trial 15 finished with value: 0.9086956521739131 and parameters: {'n_estimators': 215, 'max_depth': 10, 'min_samples_split': 53, 'min_samples_leaf': 35}. Best is trial 10 with value: 0.9195652173913043.\n",
      "[I 2023-12-07 10:58:13,790] Trial 16 finished with value: 0.9195652173913043 and parameters: {'n_estimators': 154, 'max_depth': 31, 'min_samples_split': 54, 'min_samples_leaf': 11}. Best is trial 10 with value: 0.9195652173913043.\n",
      "[I 2023-12-07 10:58:15,199] Trial 17 finished with value: 0.9195652173913043 and parameters: {'n_estimators': 247, 'max_depth': 5, 'min_samples_split': 92, 'min_samples_leaf': 16}. Best is trial 10 with value: 0.9195652173913043.\n",
      "[I 2023-12-07 10:58:16,351] Trial 18 finished with value: 0.9217391304347826 and parameters: {'n_estimators': 191, 'max_depth': 9, 'min_samples_split': 50, 'min_samples_leaf': 1}. Best is trial 18 with value: 0.9217391304347826.\n",
      "[I 2023-12-07 10:58:17,196] Trial 19 finished with value: 0.9260869565217391 and parameters: {'n_estimators': 132, 'max_depth': 10, 'min_samples_split': 8, 'min_samples_leaf': 2}. Best is trial 19 with value: 0.9260869565217391.\n",
      "[I 2023-12-07 10:58:17,905] Trial 20 finished with value: 0.9260869565217391 and parameters: {'n_estimators': 107, 'max_depth': 10, 'min_samples_split': 6, 'min_samples_leaf': 2}. Best is trial 19 with value: 0.9260869565217391.\n",
      "[I 2023-12-07 10:58:18,652] Trial 21 finished with value: 0.9217391304347826 and parameters: {'n_estimators': 107, 'max_depth': 10, 'min_samples_split': 2, 'min_samples_leaf': 2}. Best is trial 19 with value: 0.9260869565217391.\n",
      "[I 2023-12-07 10:58:19,596] Trial 22 finished with value: 0.9282608695652174 and parameters: {'n_estimators': 153, 'max_depth': 10, 'min_samples_split': 16, 'min_samples_leaf': 1}. Best is trial 22 with value: 0.9282608695652174.\n",
      "[I 2023-12-07 10:58:20,617] Trial 23 finished with value: 0.9304347826086957 and parameters: {'n_estimators': 157, 'max_depth': 13, 'min_samples_split': 17, 'min_samples_leaf': 6}. Best is trial 23 with value: 0.9304347826086957.\n",
      "[I 2023-12-07 10:58:21,630] Trial 24 finished with value: 0.9282608695652174 and parameters: {'n_estimators': 154, 'max_depth': 14, 'min_samples_split': 20, 'min_samples_leaf': 7}. Best is trial 23 with value: 0.9304347826086957.\n",
      "[I 2023-12-07 10:58:22,592] Trial 25 finished with value: 0.9282608695652174 and parameters: {'n_estimators': 159, 'max_depth': 14, 'min_samples_split': 18, 'min_samples_leaf': 8}. Best is trial 23 with value: 0.9304347826086957.\n",
      "[I 2023-12-07 10:58:23,461] Trial 26 finished with value: 0.9217391304347826 and parameters: {'n_estimators': 144, 'max_depth': 13, 'min_samples_split': 36, 'min_samples_leaf': 8}. Best is trial 23 with value: 0.9304347826086957.\n",
      "[I 2023-12-07 10:58:23,990] Trial 27 finished with value: 0.9152173913043479 and parameters: {'n_estimators': 85, 'max_depth': 24, 'min_samples_split': 25, 'min_samples_leaf': 22}. Best is trial 23 with value: 0.9304347826086957.\n",
      "[I 2023-12-07 10:58:25,057] Trial 28 finished with value: 0.9282608695652174 and parameters: {'n_estimators': 170, 'max_depth': 13, 'min_samples_split': 19, 'min_samples_leaf': 7}. Best is trial 23 with value: 0.9304347826086957.\n",
      "[I 2023-12-07 10:58:25,575] Trial 29 finished with value: 0.9043478260869564 and parameters: {'n_estimators': 92, 'max_depth': 19, 'min_samples_split': 44, 'min_samples_leaf': 46}. Best is trial 23 with value: 0.9304347826086957.\n",
      "[I 2023-12-07 10:58:26,764] Trial 30 finished with value: 0.9282608695652174 and parameters: {'n_estimators': 188, 'max_depth': 15, 'min_samples_split': 15, 'min_samples_leaf': 12}. Best is trial 23 with value: 0.9304347826086957.\n",
      "[I 2023-12-07 10:58:27,795] Trial 31 finished with value: 0.9326086956521739 and parameters: {'n_estimators': 155, 'max_depth': 15, 'min_samples_split': 15, 'min_samples_leaf': 8}. Best is trial 31 with value: 0.9326086956521739.\n",
      "[I 2023-12-07 10:58:28,699] Trial 32 finished with value: 0.9304347826086957 and parameters: {'n_estimators': 143, 'max_depth': 12, 'min_samples_split': 13, 'min_samples_leaf': 6}. Best is trial 31 with value: 0.9326086956521739.\n",
      "[I 2023-12-07 10:58:29,438] Trial 33 finished with value: 0.9021739130434782 and parameters: {'n_estimators': 134, 'max_depth': 17, 'min_samples_split': 31, 'min_samples_leaf': 60}. Best is trial 31 with value: 0.9326086956521739.\n",
      "[I 2023-12-07 10:58:30,485] Trial 34 finished with value: 0.9260869565217392 and parameters: {'n_estimators': 179, 'max_depth': 12, 'min_samples_split': 13, 'min_samples_leaf': 13}. Best is trial 31 with value: 0.9326086956521739.\n",
      "[I 2023-12-07 10:58:31,432] Trial 35 finished with value: 0.9260869565217391 and parameters: {'n_estimators': 164, 'max_depth': 16, 'min_samples_split': 32, 'min_samples_leaf': 4}. Best is trial 31 with value: 0.9326086956521739.\n",
      "[I 2023-12-07 10:58:32,556] Trial 36 finished with value: 0.9152173913043479 and parameters: {'n_estimators': 198, 'max_depth': 8, 'min_samples_split': 25, 'min_samples_leaf': 25}. Best is trial 31 with value: 0.9326086956521739.\n",
      "[I 2023-12-07 10:58:33,994] Trial 37 finished with value: 0.9282608695652174 and parameters: {'n_estimators': 239, 'max_depth': 11, 'min_samples_split': 6, 'min_samples_leaf': 9}. Best is trial 31 with value: 0.9326086956521739.\n",
      "[I 2023-12-07 10:58:34,668] Trial 38 finished with value: 0.9086956521739129 and parameters: {'n_estimators': 112, 'max_depth': 8, 'min_samples_split': 40, 'min_samples_leaf': 33}. Best is trial 31 with value: 0.9326086956521739.\n",
      "[I 2023-12-07 10:58:35,613] Trial 39 finished with value: 0.923913043478261 and parameters: {'n_estimators': 145, 'max_depth': 21, 'min_samples_split': 26, 'min_samples_leaf': 6}. Best is trial 31 with value: 0.9326086956521739.\n",
      "[I 2023-12-07 10:58:36,001] Trial 40 finished with value: 0.9282608695652174 and parameters: {'n_estimators': 62, 'max_depth': 12, 'min_samples_split': 14, 'min_samples_leaf': 4}. Best is trial 31 with value: 0.9326086956521739.\n",
      "[I 2023-12-07 10:58:36,956] Trial 41 finished with value: 0.9304347826086957 and parameters: {'n_estimators': 148, 'max_depth': 15, 'min_samples_split': 23, 'min_samples_leaf': 5}. Best is trial 31 with value: 0.9326086956521739.\n",
      "[I 2023-12-07 10:58:37,742] Trial 42 finished with value: 0.9282608695652174 and parameters: {'n_estimators': 122, 'max_depth': 16, 'min_samples_split': 2, 'min_samples_leaf': 5}. Best is trial 31 with value: 0.9326086956521739.\n",
      "[I 2023-12-07 10:58:38,680] Trial 43 finished with value: 0.9173913043478261 and parameters: {'n_estimators': 171, 'max_depth': 12, 'min_samples_split': 45, 'min_samples_leaf': 15}. Best is trial 31 with value: 0.9326086956521739.\n",
      "[I 2023-12-07 10:58:39,627] Trial 44 finished with value: 0.9282608695652174 and parameters: {'n_estimators': 144, 'max_depth': 18, 'min_samples_split': 11, 'min_samples_leaf': 9}. Best is trial 31 with value: 0.9326086956521739.\n",
      "[I 2023-12-07 10:58:40,245] Trial 45 finished with value: 0.9108695652173913 and parameters: {'n_estimators': 98, 'max_depth': 15, 'min_samples_split': 61, 'min_samples_leaf': 4}. Best is trial 31 with value: 0.9326086956521739.\n",
      "[I 2023-12-07 10:58:41,022] Trial 46 finished with value: 0.9173913043478261 and parameters: {'n_estimators': 121, 'max_depth': 21, 'min_samples_split': 35, 'min_samples_leaf': 1}. Best is trial 31 with value: 0.9326086956521739.\n",
      "[I 2023-12-07 10:58:41,121] Trial 47 finished with value: 0.9130434782608695 and parameters: {'n_estimators': 10, 'max_depth': 11, 'min_samples_split': 24, 'min_samples_leaf': 10}. Best is trial 31 with value: 0.9326086956521739.\n",
      "[I 2023-12-07 10:58:42,122] Trial 48 finished with value: 0.9086956521739129 and parameters: {'n_estimators': 180, 'max_depth': 14, 'min_samples_split': 122, 'min_samples_leaf': 19}. Best is trial 31 with value: 0.9326086956521739.\n",
      "[I 2023-12-07 10:58:43,263] Trial 49 finished with value: 0.9195652173913045 and parameters: {'n_estimators': 199, 'max_depth': 18, 'min_samples_split': 10, 'min_samples_leaf': 14}. Best is trial 31 with value: 0.9326086956521739.\n",
      "[I 2023-12-07 10:58:44,089] Trial 50 finished with value: 0.9152173913043479 and parameters: {'n_estimators': 140, 'max_depth': 8, 'min_samples_split': 29, 'min_samples_leaf': 22}. Best is trial 31 with value: 0.9326086956521739.\n",
      "[I 2023-12-07 10:58:44,990] Trial 51 finished with value: 0.9260869565217391 and parameters: {'n_estimators': 151, 'max_depth': 14, 'min_samples_split': 21, 'min_samples_leaf': 6}. Best is trial 31 with value: 0.9326086956521739.\n",
      "[I 2023-12-07 10:58:45,978] Trial 52 finished with value: 0.9282608695652174 and parameters: {'n_estimators': 162, 'max_depth': 15, 'min_samples_split': 19, 'min_samples_leaf': 10}. Best is trial 31 with value: 0.9326086956521739.\n",
      "[I 2023-12-07 10:58:46,873] Trial 53 finished with value: 0.9282608695652174 and parameters: {'n_estimators': 155, 'max_depth': 9, 'min_samples_split': 12, 'min_samples_leaf': 7}. Best is trial 31 with value: 0.9326086956521739.\n",
      "[I 2023-12-07 10:58:47,651] Trial 54 finished with value: 0.9260869565217391 and parameters: {'n_estimators': 129, 'max_depth': 11, 'min_samples_split': 39, 'min_samples_leaf': 4}. Best is trial 31 with value: 0.9326086956521739.\n",
      "[I 2023-12-07 10:58:48,906] Trial 55 finished with value: 0.9217391304347826 and parameters: {'n_estimators': 203, 'max_depth': 13, 'min_samples_split': 19, 'min_samples_leaf': 1}. Best is trial 31 with value: 0.9326086956521739.\n",
      "[I 2023-12-07 10:58:49,847] Trial 56 finished with value: 0.9065217391304348 and parameters: {'n_estimators': 171, 'max_depth': 17, 'min_samples_split': 84, 'min_samples_leaf': 41}. Best is trial 31 with value: 0.9326086956521739.\n",
      "[I 2023-12-07 10:58:51,142] Trial 57 finished with value: 0.9282608695652174 and parameters: {'n_estimators': 228, 'max_depth': 24, 'min_samples_split': 7, 'min_samples_leaf': 12}. Best is trial 31 with value: 0.9326086956521739.\n",
      "[I 2023-12-07 10:58:52,218] Trial 58 finished with value: 0.9086956521739131 and parameters: {'n_estimators': 156, 'max_depth': 9, 'min_samples_split': 137, 'min_samples_leaf': 3}. Best is trial 31 with value: 0.9326086956521739.\n",
      "[I 2023-12-07 10:58:53,000] Trial 59 finished with value: 0.923913043478261 and parameters: {'n_estimators': 128, 'max_depth': 19, 'min_samples_split': 29, 'min_samples_leaf': 7}. Best is trial 31 with value: 0.9326086956521739.\n",
      "[I 2023-12-07 10:58:54,602] Trial 60 finished with value: 0.9217391304347826 and parameters: {'n_estimators': 282, 'max_depth': 12, 'min_samples_split': 16, 'min_samples_leaf': 18}. Best is trial 31 with value: 0.9326086956521739.\n",
      "[I 2023-12-07 10:58:55,739] Trial 61 finished with value: 0.9260869565217391 and parameters: {'n_estimators': 161, 'max_depth': 14, 'min_samples_split': 22, 'min_samples_leaf': 8}. Best is trial 31 with value: 0.9326086956521739.\n",
      "[I 2023-12-07 10:58:56,871] Trial 62 finished with value: 0.9195652173913043 and parameters: {'n_estimators': 180, 'max_depth': 16, 'min_samples_split': 17, 'min_samples_leaf': 16}. Best is trial 31 with value: 0.9326086956521739.\n",
      "[I 2023-12-07 10:58:57,744] Trial 63 finished with value: 0.9065217391304348 and parameters: {'n_estimators': 138, 'max_depth': 14, 'min_samples_split': 7, 'min_samples_leaf': 47}. Best is trial 31 with value: 0.9326086956521739.\n",
      "[I 2023-12-07 10:58:58,751] Trial 64 finished with value: 0.9195652173913045 and parameters: {'n_estimators': 149, 'max_depth': 11, 'min_samples_split': 33, 'min_samples_leaf': 11}. Best is trial 31 with value: 0.9326086956521739.\n",
      "[I 2023-12-07 10:58:59,805] Trial 65 finished with value: 0.9282608695652174 and parameters: {'n_estimators': 165, 'max_depth': 17, 'min_samples_split': 2, 'min_samples_leaf': 6}. Best is trial 31 with value: 0.9326086956521739.\n",
      "[I 2023-12-07 10:59:00,575] Trial 66 finished with value: 0.923913043478261 and parameters: {'n_estimators': 114, 'max_depth': 13, 'min_samples_split': 27, 'min_samples_leaf': 3}. Best is trial 31 with value: 0.9326086956521739.\n",
      "[I 2023-12-07 10:59:01,772] Trial 67 finished with value: 0.9173913043478261 and parameters: {'n_estimators': 190, 'max_depth': 15, 'min_samples_split': 45, 'min_samples_leaf': 8}. Best is trial 31 with value: 0.9326086956521739.\n",
      "[I 2023-12-07 10:59:02,595] Trial 68 finished with value: 0.9152173913043479 and parameters: {'n_estimators': 137, 'max_depth': 10, 'min_samples_split': 22, 'min_samples_leaf': 28}. Best is trial 31 with value: 0.9326086956521739.\n",
      "[I 2023-12-07 10:59:03,227] Trial 69 finished with value: 0.9152173913043479 and parameters: {'n_estimators': 100, 'max_depth': 20, 'min_samples_split': 60, 'min_samples_leaf': 1}. Best is trial 31 with value: 0.9326086956521739.\n",
      "[I 2023-12-07 10:59:04,452] Trial 70 finished with value: 0.9152173913043479 and parameters: {'n_estimators': 179, 'max_depth': 13, 'min_samples_split': 105, 'min_samples_leaf': 13}. Best is trial 31 with value: 0.9326086956521739.\n",
      "[I 2023-12-07 10:59:05,403] Trial 71 finished with value: 0.9282608695652174 and parameters: {'n_estimators': 156, 'max_depth': 12, 'min_samples_split': 15, 'min_samples_leaf': 5}. Best is trial 31 with value: 0.9326086956521739.\n",
      "[I 2023-12-07 10:59:06,491] Trial 72 finished with value: 0.9304347826086957 and parameters: {'n_estimators': 170, 'max_depth': 16, 'min_samples_split': 11, 'min_samples_leaf': 8}. Best is trial 31 with value: 0.9326086956521739.\n",
      "[I 2023-12-07 10:59:07,568] Trial 73 finished with value: 0.9282608695652174 and parameters: {'n_estimators': 171, 'max_depth': 16, 'min_samples_split': 10, 'min_samples_leaf': 9}. Best is trial 31 with value: 0.9326086956521739.\n",
      "[I 2023-12-07 10:59:08,544] Trial 74 finished with value: 0.9282608695652174 and parameters: {'n_estimators': 147, 'max_depth': 18, 'min_samples_split': 7, 'min_samples_leaf': 3}. Best is trial 31 with value: 0.9326086956521739.\n",
      "[I 2023-12-07 10:59:09,425] Trial 75 finished with value: 0.9260869565217391 and parameters: {'n_estimators': 123, 'max_depth': 20, 'min_samples_split': 17, 'min_samples_leaf': 11}. Best is trial 31 with value: 0.9326086956521739.\n",
      "[I 2023-12-07 10:59:10,587] Trial 76 finished with value: 0.9282608695652174 and parameters: {'n_estimators': 163, 'max_depth': 15, 'min_samples_split': 12, 'min_samples_leaf': 6}. Best is trial 31 with value: 0.9326086956521739.\n",
      "[I 2023-12-07 10:59:11,696] Trial 77 finished with value: 0.9086956521739129 and parameters: {'n_estimators': 186, 'max_depth': 14, 'min_samples_split': 23, 'min_samples_leaf': 36}. Best is trial 31 with value: 0.9326086956521739.\n",
      "[I 2023-12-07 10:59:12,587] Trial 78 finished with value: 0.9260869565217391 and parameters: {'n_estimators': 133, 'max_depth': 12, 'min_samples_split': 5, 'min_samples_leaf': 9}. Best is trial 31 with value: 0.9326086956521739.\n",
      "[I 2023-12-07 10:59:13,563] Trial 79 finished with value: 0.9195652173913043 and parameters: {'n_estimators': 142, 'max_depth': 17, 'min_samples_split': 31, 'min_samples_leaf': 15}. Best is trial 31 with value: 0.9326086956521739.\n",
      "[I 2023-12-07 10:59:14,841] Trial 80 finished with value: 0.9217391304347826 and parameters: {'n_estimators': 209, 'max_depth': 23, 'min_samples_split': 37, 'min_samples_leaf': 7}. Best is trial 31 with value: 0.9326086956521739.\n",
      "[I 2023-12-07 10:59:16,058] Trial 81 finished with value: 0.9260869565217391 and parameters: {'n_estimators': 172, 'max_depth': 13, 'min_samples_split': 21, 'min_samples_leaf': 5}. Best is trial 31 with value: 0.9326086956521739.\n",
      "[I 2023-12-07 10:59:17,194] Trial 82 finished with value: 0.9217391304347828 and parameters: {'n_estimators': 166, 'max_depth': 11, 'min_samples_split': 27, 'min_samples_leaf': 3}. Best is trial 31 with value: 0.9326086956521739.\n",
      "[I 2023-12-07 10:59:18,203] Trial 83 finished with value: 0.9282608695652174 and parameters: {'n_estimators': 154, 'max_depth': 13, 'min_samples_split': 18, 'min_samples_leaf': 10}. Best is trial 31 with value: 0.9326086956521739.\n",
      "[I 2023-12-07 10:59:19,321] Trial 84 finished with value: 0.9043478260869564 and parameters: {'n_estimators': 185, 'max_depth': 10, 'min_samples_split': 150, 'min_samples_leaf': 7}. Best is trial 31 with value: 0.9326086956521739.\n",
      "[I 2023-12-07 10:59:20,243] Trial 85 finished with value: 0.9282608695652174 and parameters: {'n_estimators': 148, 'max_depth': 15, 'min_samples_split': 12, 'min_samples_leaf': 12}. Best is trial 31 with value: 0.9326086956521739.\n",
      "[I 2023-12-07 10:59:21,595] Trial 86 finished with value: 0.923913043478261 and parameters: {'n_estimators': 175, 'max_depth': 11, 'min_samples_split': 14, 'min_samples_leaf': 2}. Best is trial 31 with value: 0.9326086956521739.\n",
      "[I 2023-12-07 10:59:22,849] Trial 87 finished with value: 0.9260869565217391 and parameters: {'n_estimators': 159, 'max_depth': 16, 'min_samples_split': 25, 'min_samples_leaf': 5}. Best is trial 31 with value: 0.9326086956521739.\n",
      "[I 2023-12-07 10:59:23,892] Trial 88 finished with value: 0.9260869565217391 and parameters: {'n_estimators': 167, 'max_depth': 14, 'min_samples_split': 9, 'min_samples_leaf': 8}. Best is trial 31 with value: 0.9326086956521739.\n",
      "[I 2023-12-07 10:59:25,057] Trial 89 finished with value: 0.9217391304347826 and parameters: {'n_estimators': 195, 'max_depth': 12, 'min_samples_split': 42, 'min_samples_leaf': 14}. Best is trial 31 with value: 0.9326086956521739.\n",
      "[I 2023-12-07 10:59:25,881] Trial 90 finished with value: 0.9260869565217391 and parameters: {'n_estimators': 124, 'max_depth': 15, 'min_samples_split': 4, 'min_samples_leaf': 4}. Best is trial 31 with value: 0.9326086956521739.\n",
      "[I 2023-12-07 10:59:26,844] Trial 91 finished with value: 0.9260869565217392 and parameters: {'n_estimators': 151, 'max_depth': 17, 'min_samples_split': 19, 'min_samples_leaf': 12}. Best is trial 31 with value: 0.9326086956521739.\n",
      "[I 2023-12-07 10:59:27,987] Trial 92 finished with value: 0.9260869565217391 and parameters: {'n_estimators': 182, 'max_depth': 14, 'min_samples_split': 14, 'min_samples_leaf': 10}. Best is trial 31 with value: 0.9326086956521739.\n",
      "[I 2023-12-07 10:59:29,304] Trial 93 finished with value: 0.9217391304347826 and parameters: {'n_estimators': 206, 'max_depth': 19, 'min_samples_split': 19, 'min_samples_leaf': 6}. Best is trial 31 with value: 0.9326086956521739.\n",
      "[I 2023-12-07 10:59:30,222] Trial 94 finished with value: 0.9260869565217391 and parameters: {'n_estimators': 140, 'max_depth': 13, 'min_samples_split': 33, 'min_samples_leaf': 8}. Best is trial 31 with value: 0.9326086956521739.\n",
      "[I 2023-12-07 10:59:31,552] Trial 95 finished with value: 0.9304347826086955 and parameters: {'n_estimators': 195, 'max_depth': 16, 'min_samples_split': 10, 'min_samples_leaf': 2}. Best is trial 31 with value: 0.9326086956521739.\n",
      "[I 2023-12-07 10:59:33,070] Trial 96 finished with value: 0.9304347826086957 and parameters: {'n_estimators': 219, 'max_depth': 16, 'min_samples_split': 9, 'min_samples_leaf': 2}. Best is trial 31 with value: 0.9326086956521739.\n",
      "[I 2023-12-07 10:59:34,562] Trial 97 finished with value: 0.9304347826086955 and parameters: {'n_estimators': 229, 'max_depth': 16, 'min_samples_split': 9, 'min_samples_leaf': 1}. Best is trial 31 with value: 0.9326086956521739.\n",
      "[I 2023-12-07 10:59:36,015] Trial 98 finished with value: 0.9282608695652174 and parameters: {'n_estimators': 234, 'max_depth': 18, 'min_samples_split': 9, 'min_samples_leaf': 2}. Best is trial 31 with value: 0.9326086956521739.\n",
      "[I 2023-12-07 10:59:37,744] Trial 99 finished with value: 0.9282608695652174 and parameters: {'n_estimators': 255, 'max_depth': 21, 'min_samples_split': 2, 'min_samples_leaf': 1}. Best is trial 31 with value: 0.9326086956521739.\n"
     ]
    }
   ],
   "source": [
    "import optuna\n",
    "from sklearn.ensemble import RandomForestClassifier\n",
    "from sklearn.model_selection import cross_val_score\n",
    "\n",
    "def objective(trial):\n",
    "    # Hyperparameters to be tuned\n",
    "    n_estimators = trial.suggest_int('n_estimators', 10, 300)\n",
    "    max_depth = trial.suggest_int('max_depth', 2, 32, log=True)\n",
    "    min_samples_split = trial.suggest_int('min_samples_split', 2, 150)\n",
    "    min_samples_leaf = trial.suggest_int('min_samples_leaf', 1, 60)\n",
    "\n",
    "    # Random Forest model\n",
    "    model = RandomForestClassifier(n_estimators=n_estimators, max_depth=max_depth,\n",
    "                                   min_samples_split=min_samples_split, \n",
    "                                   min_samples_leaf=min_samples_leaf,\n",
    "                                   random_state=42)\n",
    "    \n",
    "    # Cross-validation\n",
    "    score = cross_val_score(model, X_train, y_train, cv=5, scoring='accuracy').mean()\n",
    "    \n",
    "    return score\n",
    "\n",
    "# Create a study object and specify the optimization direction as maximizing accuracy\n",
    "study = optuna.create_study(direction='maximize')\n",
    "study.optimize(objective, n_trials=100)"
   ]
  },
  {
   "cell_type": "markdown",
   "id": "154fb47a",
   "metadata": {},
   "source": [
    "# Step 5: Output the Best Hyperparameters"
   ]
  },
  {
   "cell_type": "code",
   "execution_count": 5,
   "id": "9bca2eec",
   "metadata": {},
   "outputs": [
    {
     "name": "stdout",
     "output_type": "stream",
     "text": [
      "Best Parameters: {'n_estimators': 155, 'max_depth': 15, 'min_samples_split': 15, 'min_samples_leaf': 8}\n"
     ]
    }
   ],
   "source": [
    "# Best hyperparameters\n",
    "best_params = study.best_params\n",
    "print('Best Parameters:', best_params)"
   ]
  },
  {
   "cell_type": "markdown",
   "id": "4181cdaa",
   "metadata": {},
   "source": [
    "# Step 6: Train the Model with the Best Parameters Found"
   ]
  },
  {
   "cell_type": "code",
   "execution_count": 6,
   "id": "4ae4018e",
   "metadata": {},
   "outputs": [
    {
     "data": {
      "text/html": [
       "<style>#sk-container-id-1 {color: black;background-color: white;}#sk-container-id-1 pre{padding: 0;}#sk-container-id-1 div.sk-toggleable {background-color: white;}#sk-container-id-1 label.sk-toggleable__label {cursor: pointer;display: block;width: 100%;margin-bottom: 0;padding: 0.3em;box-sizing: border-box;text-align: center;}#sk-container-id-1 label.sk-toggleable__label-arrow:before {content: \"▸\";float: left;margin-right: 0.25em;color: #696969;}#sk-container-id-1 label.sk-toggleable__label-arrow:hover:before {color: black;}#sk-container-id-1 div.sk-estimator:hover label.sk-toggleable__label-arrow:before {color: black;}#sk-container-id-1 div.sk-toggleable__content {max-height: 0;max-width: 0;overflow: hidden;text-align: left;background-color: #f0f8ff;}#sk-container-id-1 div.sk-toggleable__content pre {margin: 0.2em;color: black;border-radius: 0.25em;background-color: #f0f8ff;}#sk-container-id-1 input.sk-toggleable__control:checked~div.sk-toggleable__content {max-height: 200px;max-width: 100%;overflow: auto;}#sk-container-id-1 input.sk-toggleable__control:checked~label.sk-toggleable__label-arrow:before {content: \"▾\";}#sk-container-id-1 div.sk-estimator input.sk-toggleable__control:checked~label.sk-toggleable__label {background-color: #d4ebff;}#sk-container-id-1 div.sk-label input.sk-toggleable__control:checked~label.sk-toggleable__label {background-color: #d4ebff;}#sk-container-id-1 input.sk-hidden--visually {border: 0;clip: rect(1px 1px 1px 1px);clip: rect(1px, 1px, 1px, 1px);height: 1px;margin: -1px;overflow: hidden;padding: 0;position: absolute;width: 1px;}#sk-container-id-1 div.sk-estimator {font-family: monospace;background-color: #f0f8ff;border: 1px dotted black;border-radius: 0.25em;box-sizing: border-box;margin-bottom: 0.5em;}#sk-container-id-1 div.sk-estimator:hover {background-color: #d4ebff;}#sk-container-id-1 div.sk-parallel-item::after {content: \"\";width: 100%;border-bottom: 1px solid gray;flex-grow: 1;}#sk-container-id-1 div.sk-label:hover label.sk-toggleable__label {background-color: #d4ebff;}#sk-container-id-1 div.sk-serial::before {content: \"\";position: absolute;border-left: 1px solid gray;box-sizing: border-box;top: 0;bottom: 0;left: 50%;z-index: 0;}#sk-container-id-1 div.sk-serial {display: flex;flex-direction: column;align-items: center;background-color: white;padding-right: 0.2em;padding-left: 0.2em;position: relative;}#sk-container-id-1 div.sk-item {position: relative;z-index: 1;}#sk-container-id-1 div.sk-parallel {display: flex;align-items: stretch;justify-content: center;background-color: white;position: relative;}#sk-container-id-1 div.sk-item::before, #sk-container-id-1 div.sk-parallel-item::before {content: \"\";position: absolute;border-left: 1px solid gray;box-sizing: border-box;top: 0;bottom: 0;left: 50%;z-index: -1;}#sk-container-id-1 div.sk-parallel-item {display: flex;flex-direction: column;z-index: 1;position: relative;background-color: white;}#sk-container-id-1 div.sk-parallel-item:first-child::after {align-self: flex-end;width: 50%;}#sk-container-id-1 div.sk-parallel-item:last-child::after {align-self: flex-start;width: 50%;}#sk-container-id-1 div.sk-parallel-item:only-child::after {width: 0;}#sk-container-id-1 div.sk-dashed-wrapped {border: 1px dashed gray;margin: 0 0.4em 0.5em 0.4em;box-sizing: border-box;padding-bottom: 0.4em;background-color: white;}#sk-container-id-1 div.sk-label label {font-family: monospace;font-weight: bold;display: inline-block;line-height: 1.2em;}#sk-container-id-1 div.sk-label-container {text-align: center;}#sk-container-id-1 div.sk-container {/* jupyter's `normalize.less` sets `[hidden] { display: none; }` but bootstrap.min.css set `[hidden] { display: none !important; }` so we also need the `!important` here to be able to override the default hidden behavior on the sphinx rendered scikit-learn.org. See: https://github.com/scikit-learn/scikit-learn/issues/21755 */display: inline-block !important;position: relative;}#sk-container-id-1 div.sk-text-repr-fallback {display: none;}</style><div id=\"sk-container-id-1\" class=\"sk-top-container\"><div class=\"sk-text-repr-fallback\"><pre>RandomForestClassifier(max_depth=15, min_samples_leaf=8, min_samples_split=15,\n",
       "                       n_estimators=155, random_state=42)</pre><b>In a Jupyter environment, please rerun this cell to show the HTML representation or trust the notebook. <br />On GitHub, the HTML representation is unable to render, please try loading this page with nbviewer.org.</b></div><div class=\"sk-container\" hidden><div class=\"sk-item\"><div class=\"sk-estimator sk-toggleable\"><input class=\"sk-toggleable__control sk-hidden--visually\" id=\"sk-estimator-id-1\" type=\"checkbox\" checked><label for=\"sk-estimator-id-1\" class=\"sk-toggleable__label sk-toggleable__label-arrow\">RandomForestClassifier</label><div class=\"sk-toggleable__content\"><pre>RandomForestClassifier(max_depth=15, min_samples_leaf=8, min_samples_split=15,\n",
       "                       n_estimators=155, random_state=42)</pre></div></div></div></div></div>"
      ],
      "text/plain": [
       "RandomForestClassifier(max_depth=15, min_samples_leaf=8, min_samples_split=15,\n",
       "                       n_estimators=155, random_state=42)"
      ]
     },
     "execution_count": 6,
     "metadata": {},
     "output_type": "execute_result"
    }
   ],
   "source": [
    "# Train the model with the best parameters found\n",
    "model_best = RandomForestClassifier(**best_params, random_state=42)\n",
    "model_best.fit(X_train, y_train)"
   ]
  },
  {
   "cell_type": "markdown",
   "id": "d34b2ffc",
   "metadata": {},
   "source": [
    "# Step 7: Predictions and Performance Evaluation"
   ]
  },
  {
   "cell_type": "code",
   "execution_count": 7,
   "id": "0012ac0a",
   "metadata": {},
   "outputs": [
    {
     "name": "stdout",
     "output_type": "stream",
     "text": [
      "Classification Report:\n",
      "               precision    recall  f1-score   support\n",
      "\n",
      "           0       0.91      0.94      0.92        63\n",
      "           1       0.92      0.89      0.90        53\n",
      "\n",
      "    accuracy                           0.91       116\n",
      "   macro avg       0.91      0.91      0.91       116\n",
      "weighted avg       0.91      0.91      0.91       116\n",
      "\n",
      "Confusion Matrix:\n",
      " [[59  4]\n",
      " [ 6 47]]\n",
      "Accuracy Score: 0.9137931034482759\n"
     ]
    }
   ],
   "source": [
    "from sklearn.metrics import classification_report, confusion_matrix, accuracy_score\n",
    "\n",
    "# Predictions\n",
    "y_pred = model_best.predict(X_test)\n",
    "\n",
    "# Performance Evaluation\n",
    "print('Classification Report:\\n', classification_report(y_test, y_pred))\n",
    "print('Confusion Matrix:\\n', confusion_matrix(y_test, y_pred))\n",
    "print('Accuracy Score:', accuracy_score(y_test, y_pred))"
   ]
  },
  {
   "cell_type": "markdown",
   "id": "9de1e9db",
   "metadata": {},
   "source": [
    "# Step 8: Show Feature Importance"
   ]
  },
  {
   "cell_type": "code",
   "execution_count": 8,
   "id": "0c05c50f",
   "metadata": {},
   "outputs": [
    {
     "name": "stdout",
     "output_type": "stream",
     "text": [
      "Feature Importance:\n",
      "                       importance\n",
      "#followers              0.337346\n",
      "#posts                  0.262252\n",
      "nums/length username    0.127657\n",
      "profile pic             0.103287\n",
      "description length      0.076681\n",
      "#follows                0.052121\n",
      "fullname words          0.031636\n",
      "external URL            0.003658\n",
      "nums/length fullname    0.003191\n",
      "private                 0.002143\n",
      "name==username          0.000028\n"
     ]
    }
   ],
   "source": [
    "import pandas as pd\n",
    "\n",
    "# Extracting feature importances\n",
    "feature_importances = pd.DataFrame(model_best.feature_importances_,\n",
    "                                   index = X.columns,\n",
    "                                   columns=['importance']).sort_values('importance', ascending=False)\n",
    "\n",
    "print('Feature Importance:\\n', feature_importances)"
   ]
  }
 ],
 "metadata": {
  "kernelspec": {
   "display_name": "Python 3 (ipykernel)",
   "language": "python",
   "name": "python3"
  },
  "language_info": {
   "codemirror_mode": {
    "name": "ipython",
    "version": 3
   },
   "file_extension": ".py",
   "mimetype": "text/x-python",
   "name": "python",
   "nbconvert_exporter": "python",
   "pygments_lexer": "ipython3",
   "version": "3.10.9"
  }
 },
 "nbformat": 4,
 "nbformat_minor": 5
}
