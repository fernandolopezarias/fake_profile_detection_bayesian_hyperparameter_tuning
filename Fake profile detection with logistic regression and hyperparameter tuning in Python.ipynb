{
 "cells": [
  {
   "cell_type": "markdown",
   "id": "a2c6cc0d",
   "metadata": {},
   "source": [
    "# Fake profile detection with logistic regression and hyperparameter tuning in Python"
   ]
  },
  {
   "cell_type": "markdown",
   "id": "ecc6bef2",
   "metadata": {},
   "source": [
    "## Description:\n",
    "\n",
    "This Jupyter Notebook outlines a machine learning workflow for detecting fake profiles using a logistic regression model. The process involves loading a dataset, preprocessing features, performing cross-validation, and optimizing the model's hyperparameters using Bayesian optimization with Optuna. \n",
    "\n",
    "Each step is encapsulated in a separate code cell for clear organization and easy execution. The notebook concludes with an evaluation of the model's performance on test data and an examination of feature importance derived from the model's coefficients. \n",
    "\n",
    "By following these steps, we aim to create a robust classifier that can accurately identify fake profiles based on the provided dataset."
   ]
  },
  {
   "cell_type": "markdown",
   "id": "4993127b",
   "metadata": {},
   "source": [
    "# Step 1: Load the Data"
   ]
  },
  {
   "cell_type": "code",
   "execution_count": 3,
   "id": "0e39fa63",
   "metadata": {},
   "outputs": [
    {
     "data": {
      "text/html": [
       "<div>\n",
       "<style scoped>\n",
       "    .dataframe tbody tr th:only-of-type {\n",
       "        vertical-align: middle;\n",
       "    }\n",
       "\n",
       "    .dataframe tbody tr th {\n",
       "        vertical-align: top;\n",
       "    }\n",
       "\n",
       "    .dataframe thead th {\n",
       "        text-align: right;\n",
       "    }\n",
       "</style>\n",
       "<table border=\"1\" class=\"dataframe\">\n",
       "  <thead>\n",
       "    <tr style=\"text-align: right;\">\n",
       "      <th></th>\n",
       "      <th>profile pic</th>\n",
       "      <th>nums/length username</th>\n",
       "      <th>fullname words</th>\n",
       "      <th>nums/length fullname</th>\n",
       "      <th>name==username</th>\n",
       "      <th>description length</th>\n",
       "      <th>external URL</th>\n",
       "      <th>private</th>\n",
       "      <th>#posts</th>\n",
       "      <th>#followers</th>\n",
       "      <th>#follows</th>\n",
       "      <th>fake</th>\n",
       "    </tr>\n",
       "  </thead>\n",
       "  <tbody>\n",
       "    <tr>\n",
       "      <th>0</th>\n",
       "      <td>1</td>\n",
       "      <td>0.27</td>\n",
       "      <td>0</td>\n",
       "      <td>0.0</td>\n",
       "      <td>0</td>\n",
       "      <td>53</td>\n",
       "      <td>0</td>\n",
       "      <td>0</td>\n",
       "      <td>32</td>\n",
       "      <td>1000</td>\n",
       "      <td>955</td>\n",
       "      <td>0</td>\n",
       "    </tr>\n",
       "    <tr>\n",
       "      <th>1</th>\n",
       "      <td>1</td>\n",
       "      <td>0.00</td>\n",
       "      <td>2</td>\n",
       "      <td>0.0</td>\n",
       "      <td>0</td>\n",
       "      <td>44</td>\n",
       "      <td>0</td>\n",
       "      <td>0</td>\n",
       "      <td>286</td>\n",
       "      <td>2740</td>\n",
       "      <td>533</td>\n",
       "      <td>0</td>\n",
       "    </tr>\n",
       "    <tr>\n",
       "      <th>2</th>\n",
       "      <td>1</td>\n",
       "      <td>0.10</td>\n",
       "      <td>2</td>\n",
       "      <td>0.0</td>\n",
       "      <td>0</td>\n",
       "      <td>0</td>\n",
       "      <td>0</td>\n",
       "      <td>1</td>\n",
       "      <td>13</td>\n",
       "      <td>159</td>\n",
       "      <td>98</td>\n",
       "      <td>0</td>\n",
       "    </tr>\n",
       "    <tr>\n",
       "      <th>3</th>\n",
       "      <td>1</td>\n",
       "      <td>0.00</td>\n",
       "      <td>1</td>\n",
       "      <td>0.0</td>\n",
       "      <td>0</td>\n",
       "      <td>82</td>\n",
       "      <td>0</td>\n",
       "      <td>0</td>\n",
       "      <td>679</td>\n",
       "      <td>414</td>\n",
       "      <td>651</td>\n",
       "      <td>0</td>\n",
       "    </tr>\n",
       "    <tr>\n",
       "      <th>4</th>\n",
       "      <td>1</td>\n",
       "      <td>0.00</td>\n",
       "      <td>2</td>\n",
       "      <td>0.0</td>\n",
       "      <td>0</td>\n",
       "      <td>0</td>\n",
       "      <td>0</td>\n",
       "      <td>1</td>\n",
       "      <td>6</td>\n",
       "      <td>151</td>\n",
       "      <td>126</td>\n",
       "      <td>0</td>\n",
       "    </tr>\n",
       "  </tbody>\n",
       "</table>\n",
       "</div>"
      ],
      "text/plain": [
       "   profile pic  nums/length username  fullname words  nums/length fullname  \\\n",
       "0            1                  0.27               0                   0.0   \n",
       "1            1                  0.00               2                   0.0   \n",
       "2            1                  0.10               2                   0.0   \n",
       "3            1                  0.00               1                   0.0   \n",
       "4            1                  0.00               2                   0.0   \n",
       "\n",
       "   name==username  description length  external URL  private  #posts  \\\n",
       "0               0                  53             0        0      32   \n",
       "1               0                  44             0        0     286   \n",
       "2               0                   0             0        1      13   \n",
       "3               0                  82             0        0     679   \n",
       "4               0                   0             0        1       6   \n",
       "\n",
       "   #followers  #follows  fake  \n",
       "0        1000       955     0  \n",
       "1        2740       533     0  \n",
       "2         159        98     0  \n",
       "3         414       651     0  \n",
       "4         151       126     0  "
      ]
     },
     "execution_count": 3,
     "metadata": {},
     "output_type": "execute_result"
    }
   ],
   "source": [
    "import pandas as pd\n",
    "\n",
    "# Specify data path for the model\n",
    "file_path = r'C:\\Users\\ferna\\OneDrive\\Documents\\Skills\\ML and AI\\MODULE 25 - capstone project\\Instagram.csv'\n",
    "\n",
    "# Load the data\n",
    "df = pd.read_csv(file_path)\n",
    "\n",
    "# Display the first five rows of the DataFrame to check the headers and top entries\n",
    "df.head()"
   ]
  },
  {
   "cell_type": "markdown",
   "id": "e1d8dd7e",
   "metadata": {},
   "source": [
    "# Step 2: Preprocess the Data"
   ]
  },
  {
   "cell_type": "code",
   "execution_count": 5,
   "id": "b62cf6e6",
   "metadata": {},
   "outputs": [
    {
     "name": "stdout",
     "output_type": "stream",
     "text": [
      "Feature matrix and target vector created.\n",
      "Features have been standardized.\n",
      "Data has been split into training and test sets.\n"
     ]
    }
   ],
   "source": [
    "from sklearn.model_selection import train_test_split\n",
    "from sklearn.preprocessing import StandardScaler\n",
    "\n",
    "# Assume 'fake' is the target variable\n",
    "X = df.drop('fake', axis=1)\n",
    "y = df['fake']\n",
    "print(\"Feature matrix and target vector created.\")\n",
    "\n",
    "# Standardize the features\n",
    "scaler = StandardScaler()\n",
    "X_scaled = scaler.fit_transform(X)\n",
    "print(\"Features have been standardized.\")\n",
    "\n",
    "# Split the data into training and test sets\n",
    "X_train, X_test, y_train, y_test = train_test_split(X_scaled, y, test_size=0.2, random_state=42)\n",
    "print(\"Data has been split into training and test sets.\")"
   ]
  },
  {
   "cell_type": "markdown",
   "id": "d32b5307",
   "metadata": {},
   "source": [
    "# Step 3: Define the Logistic Regression Model"
   ]
  },
  {
   "cell_type": "markdown",
   "id": "b430262f",
   "metadata": {},
   "source": [
    "This step is integrated into the Optuna optimization process, so we will define the model within the objective function during the hyperparameter tuning step."
   ]
  },
  {
   "cell_type": "markdown",
   "id": "13ae5dcc",
   "metadata": {},
   "source": [
    "# Step 4: Perform Cross-Validation and Hyperparameter Tuning Using Optuna"
   ]
  },
  {
   "cell_type": "code",
   "execution_count": 7,
   "id": "3c3daff4",
   "metadata": {},
   "outputs": [
    {
     "name": "stdout",
     "output_type": "stream",
     "text": [
      "Collecting optuna\n",
      "  Downloading optuna-3.4.0-py3-none-any.whl (409 kB)\n",
      "     -------------------------------------- 409.6/409.6 kB 6.4 MB/s eta 0:00:00\n",
      "Requirement already satisfied: tqdm in c:\\users\\ferna\\onedrive\\documents\\skills\\anaconda\\lib\\site-packages (from optuna) (4.64.1)\n",
      "Collecting colorlog\n",
      "  Downloading colorlog-6.8.0-py3-none-any.whl (11 kB)\n",
      "Collecting alembic>=1.5.0\n",
      "  Downloading alembic-1.13.0-py3-none-any.whl (230 kB)\n",
      "     -------------------------------------- 230.6/230.6 kB 2.3 MB/s eta 0:00:00\n",
      "Requirement already satisfied: packaging>=20.0 in c:\\users\\ferna\\onedrive\\documents\\skills\\anaconda\\lib\\site-packages (from optuna) (22.0)\n",
      "Requirement already satisfied: numpy in c:\\users\\ferna\\onedrive\\documents\\skills\\anaconda\\lib\\site-packages (from optuna) (1.23.5)\n",
      "Requirement already satisfied: sqlalchemy>=1.3.0 in c:\\users\\ferna\\onedrive\\documents\\skills\\anaconda\\lib\\site-packages (from optuna) (1.4.39)\n",
      "Requirement already satisfied: PyYAML in c:\\users\\ferna\\onedrive\\documents\\skills\\anaconda\\lib\\site-packages (from optuna) (6.0)\n",
      "Collecting Mako\n",
      "  Downloading Mako-1.3.0-py3-none-any.whl (78 kB)\n",
      "     ---------------------------------------- 78.6/78.6 kB 4.3 MB/s eta 0:00:00\n",
      "Requirement already satisfied: typing-extensions>=4 in c:\\users\\ferna\\onedrive\\documents\\skills\\anaconda\\lib\\site-packages (from alembic>=1.5.0->optuna) (4.4.0)\n",
      "Requirement already satisfied: greenlet!=0.4.17 in c:\\users\\ferna\\onedrive\\documents\\skills\\anaconda\\lib\\site-packages (from sqlalchemy>=1.3.0->optuna) (2.0.1)\n",
      "Requirement already satisfied: colorama in c:\\users\\ferna\\onedrive\\documents\\skills\\anaconda\\lib\\site-packages (from colorlog->optuna) (0.4.6)\n",
      "Requirement already satisfied: MarkupSafe>=0.9.2 in c:\\users\\ferna\\onedrive\\documents\\skills\\anaconda\\lib\\site-packages (from Mako->alembic>=1.5.0->optuna) (2.1.1)\n",
      "Installing collected packages: Mako, colorlog, alembic, optuna\n",
      "Successfully installed Mako-1.3.0 alembic-1.13.0 colorlog-6.8.0 optuna-3.4.0\n"
     ]
    }
   ],
   "source": [
    "# Install Optuna if it's not already installed\n",
    "!pip install optuna"
   ]
  },
  {
   "cell_type": "code",
   "execution_count": 10,
   "id": "98f7ffe6",
   "metadata": {},
   "outputs": [
    {
     "name": "stderr",
     "output_type": "stream",
     "text": [
      "[I 2023-12-06 16:14:15,410] A new study created in memory with name: no-name-ca75e942-b27f-4ce2-88fc-1549bf45b300\n",
      "[I 2023-12-06 16:14:15,425] Trial 0 finished with value: 0.9108695652173914 and parameters: {'C': 0.015441878622321182}. Best is trial 0 with value: 0.9108695652173914.\n",
      "[I 2023-12-06 16:14:15,485] Trial 1 finished with value: 0.9086956521739131 and parameters: {'C': 158.17333750153313}. Best is trial 0 with value: 0.9108695652173914.\n",
      "[I 2023-12-06 16:14:15,495] Trial 2 finished with value: 0.8913043478260869 and parameters: {'C': 0.0006051526096588452}. Best is trial 0 with value: 0.9108695652173914.\n",
      "[I 2023-12-06 16:14:15,525] Trial 3 finished with value: 0.9108695652173914 and parameters: {'C': 0.01305923342531416}. Best is trial 0 with value: 0.9108695652173914.\n",
      "[I 2023-12-06 16:14:15,558] Trial 4 finished with value: 0.9086956521739131 and parameters: {'C': 6.843316984517569}. Best is trial 0 with value: 0.9108695652173914.\n",
      "[I 2023-12-06 16:14:15,574] Trial 5 finished with value: 0.9086956521739131 and parameters: {'C': 0.0007626975647101329}. Best is trial 0 with value: 0.9108695652173914.\n",
      "[I 2023-12-06 16:14:15,596] Trial 6 finished with value: 0.9152173913043479 and parameters: {'C': 0.1865683303745784}. Best is trial 6 with value: 0.9152173913043479.\n",
      "[I 2023-12-06 16:14:15,613] Trial 7 finished with value: 0.7826086956521738 and parameters: {'C': 0.0002878090487691517}. Best is trial 6 with value: 0.9152173913043479.\n",
      "[I 2023-12-06 16:14:15,691] Trial 8 finished with value: 0.9086956521739131 and parameters: {'C': 2621.415341665409}. Best is trial 6 with value: 0.9152173913043479.\n",
      "[I 2023-12-06 16:14:15,725] Trial 9 finished with value: 0.9108695652173914 and parameters: {'C': 0.012317268236599852}. Best is trial 6 with value: 0.9152173913043479.\n",
      "[I 2023-12-06 16:14:15,757] Trial 10 finished with value: 0.9108695652173913 and parameters: {'C': 1.605594954716956}. Best is trial 6 with value: 0.9152173913043479.\n",
      "[I 2023-12-06 16:14:15,778] Trial 11 finished with value: 0.9152173913043479 and parameters: {'C': 0.12278324689253985}. Best is trial 6 with value: 0.9152173913043479.\n",
      "[I 2023-12-06 16:14:15,813] Trial 12 finished with value: 0.9152173913043479 and parameters: {'C': 0.2597827734992393}. Best is trial 6 with value: 0.9152173913043479.\n",
      "[I 2023-12-06 16:14:15,841] Trial 13 finished with value: 0.9152173913043479 and parameters: {'C': 0.20406950534720242}. Best is trial 6 with value: 0.9152173913043479.\n",
      "[I 2023-12-06 16:14:15,884] Trial 14 finished with value: 0.9086956521739131 and parameters: {'C': 10.80857495305887}. Best is trial 6 with value: 0.9152173913043479.\n",
      "[I 2023-12-06 16:14:15,913] Trial 15 finished with value: 0.9108695652173913 and parameters: {'C': 0.08568038410578158}. Best is trial 6 with value: 0.9152173913043479.\n",
      "[I 2023-12-06 16:14:15,949] Trial 16 finished with value: 0.9130434782608695 and parameters: {'C': 2.5925508969423294}. Best is trial 6 with value: 0.9152173913043479.\n",
      "[I 2023-12-06 16:14:15,999] Trial 17 finished with value: 0.9086956521739131 and parameters: {'C': 41.416609134387336}. Best is trial 6 with value: 0.9152173913043479.\n",
      "[I 2023-12-06 16:14:16,030] Trial 18 finished with value: 0.9152173913043479 and parameters: {'C': 0.23319389096042079}. Best is trial 6 with value: 0.9152173913043479.\n",
      "[I 2023-12-06 16:14:16,044] Trial 19 finished with value: 0.9152173913043479 and parameters: {'C': 0.003439408391990213}. Best is trial 6 with value: 0.9152173913043479.\n",
      "[I 2023-12-06 16:14:16,084] Trial 20 finished with value: 0.9086956521739131 and parameters: {'C': 0.04774693613250701}. Best is trial 6 with value: 0.9152173913043479.\n",
      "[I 2023-12-06 16:14:16,112] Trial 21 finished with value: 0.9152173913043479 and parameters: {'C': 0.49644888227749245}. Best is trial 6 with value: 0.9152173913043479.\n",
      "[I 2023-12-06 16:14:16,144] Trial 22 finished with value: 0.9152173913043479 and parameters: {'C': 0.49648399051902387}. Best is trial 6 with value: 0.9152173913043479.\n",
      "[I 2023-12-06 16:14:16,173] Trial 23 finished with value: 0.9108695652173913 and parameters: {'C': 0.05656516575468915}. Best is trial 6 with value: 0.9152173913043479.\n",
      "[I 2023-12-06 16:14:16,195] Trial 24 finished with value: 0.9108695652173913 and parameters: {'C': 1.3583003686645276}. Best is trial 6 with value: 0.9152173913043479.\n",
      "[I 2023-12-06 16:14:16,234] Trial 25 finished with value: 0.9152173913043479 and parameters: {'C': 0.16530542606116694}. Best is trial 6 with value: 0.9152173913043479.\n",
      "[I 2023-12-06 16:14:16,256] Trial 26 finished with value: 0.9152173913043479 and parameters: {'C': 0.003655561598452046}. Best is trial 6 with value: 0.9152173913043479.\n",
      "[I 2023-12-06 16:14:16,279] Trial 27 finished with value: 0.9130434782608695 and parameters: {'C': 0.7915740669694138}. Best is trial 6 with value: 0.9152173913043479.\n",
      "[I 2023-12-06 16:14:16,314] Trial 28 finished with value: 0.9108695652173913 and parameters: {'C': 0.055387978499264134}. Best is trial 6 with value: 0.9152173913043479.\n",
      "[I 2023-12-06 16:14:16,326] Trial 29 finished with value: 0.9108695652173914 and parameters: {'C': 0.018157774700593286}. Best is trial 6 with value: 0.9152173913043479.\n",
      "[I 2023-12-06 16:14:16,369] Trial 30 finished with value: 0.9173913043478261 and parameters: {'C': 0.3495200485853912}. Best is trial 30 with value: 0.9173913043478261.\n",
      "[I 2023-12-06 16:14:16,394] Trial 31 finished with value: 0.9173913043478261 and parameters: {'C': 0.3504240520029936}. Best is trial 30 with value: 0.9173913043478261.\n",
      "[I 2023-12-06 16:14:16,436] Trial 32 finished with value: 0.9130434782608695 and parameters: {'C': 3.1095817035643716}. Best is trial 30 with value: 0.9173913043478261.\n",
      "[I 2023-12-06 16:14:16,469] Trial 33 finished with value: 0.9152173913043479 and parameters: {'C': 0.58667525930029}. Best is trial 30 with value: 0.9173913043478261.\n",
      "[I 2023-12-06 16:14:16,494] Trial 34 finished with value: 0.9130434782608695 and parameters: {'C': 0.11174537678858948}. Best is trial 30 with value: 0.9173913043478261.\n",
      "[I 2023-12-06 16:14:16,537] Trial 35 finished with value: 0.9086956521739131 and parameters: {'C': 6.269907040017355}. Best is trial 30 with value: 0.9173913043478261.\n",
      "[I 2023-12-06 16:14:16,561] Trial 36 finished with value: 0.9086956521739131 and parameters: {'C': 0.0292775115231634}. Best is trial 30 with value: 0.9173913043478261.\n",
      "[I 2023-12-06 16:14:16,591] Trial 37 finished with value: 0.9173913043478261 and parameters: {'C': 0.4088686035730587}. Best is trial 30 with value: 0.9173913043478261.\n",
      "[I 2023-12-06 16:14:16,629] Trial 38 finished with value: 0.9108695652173913 and parameters: {'C': 1.2228869514109457}. Best is trial 30 with value: 0.9173913043478261.\n",
      "[I 2023-12-06 16:14:16,661] Trial 39 finished with value: 0.9173913043478261 and parameters: {'C': 0.3605503856273788}. Best is trial 30 with value: 0.9173913043478261.\n",
      "[I 2023-12-06 16:14:16,705] Trial 40 finished with value: 0.9086956521739131 and parameters: {'C': 15.68541360763847}. Best is trial 30 with value: 0.9173913043478261.\n",
      "[I 2023-12-06 16:14:16,729] Trial 41 finished with value: 0.9173913043478261 and parameters: {'C': 0.37254555115464383}. Best is trial 30 with value: 0.9173913043478261.\n",
      "[I 2023-12-06 16:14:16,766] Trial 42 finished with value: 0.9173913043478261 and parameters: {'C': 0.3972249310257095}. Best is trial 30 with value: 0.9173913043478261.\n",
      "[I 2023-12-06 16:14:16,801] Trial 43 finished with value: 0.9108695652173913 and parameters: {'C': 1.8714553333589126}. Best is trial 30 with value: 0.9173913043478261.\n",
      "[I 2023-12-06 16:14:16,828] Trial 44 finished with value: 0.9152173913043479 and parameters: {'C': 0.6595459997018331}. Best is trial 30 with value: 0.9173913043478261.\n",
      "[I 2023-12-06 16:14:16,868] Trial 45 finished with value: 0.9108695652173913 and parameters: {'C': 4.675591508748144}. Best is trial 30 with value: 0.9173913043478261.\n",
      "[I 2023-12-06 16:14:16,897] Trial 46 finished with value: 0.9152173913043479 and parameters: {'C': 0.25334094668020746}. Best is trial 30 with value: 0.9173913043478261.\n",
      "[I 2023-12-06 16:14:16,932] Trial 47 finished with value: 0.9108695652173913 and parameters: {'C': 1.6302488231872447}. Best is trial 30 with value: 0.9173913043478261.\n",
      "[I 2023-12-06 16:14:16,960] Trial 48 finished with value: 0.9130434782608695 and parameters: {'C': 0.11635753047908924}. Best is trial 30 with value: 0.9173913043478261.\n",
      "[I 2023-12-06 16:14:16,990] Trial 49 finished with value: 0.9130434782608695 and parameters: {'C': 0.8054149425597136}. Best is trial 30 with value: 0.9173913043478261.\n",
      "[I 2023-12-06 16:14:17,011] Trial 50 finished with value: 0.9173913043478261 and parameters: {'C': 0.29301334630190295}. Best is trial 30 with value: 0.9173913043478261.\n",
      "[I 2023-12-06 16:14:17,049] Trial 51 finished with value: 0.9173913043478261 and parameters: {'C': 0.32968373222340486}. Best is trial 30 with value: 0.9173913043478261.\n",
      "[I 2023-12-06 16:14:17,078] Trial 52 finished with value: 0.9130434782608695 and parameters: {'C': 2.839697214832475}. Best is trial 30 with value: 0.9173913043478261.\n",
      "[I 2023-12-06 16:14:17,115] Trial 53 finished with value: 0.9130434782608695 and parameters: {'C': 0.1057001412807907}. Best is trial 30 with value: 0.9173913043478261.\n",
      "[I 2023-12-06 16:14:17,144] Trial 54 finished with value: 0.9130434782608695 and parameters: {'C': 0.9335256694973506}. Best is trial 30 with value: 0.9173913043478261.\n",
      "[I 2023-12-06 16:14:17,160] Trial 55 finished with value: 0.9173913043478261 and parameters: {'C': 0.3858790304132104}. Best is trial 30 with value: 0.9173913043478261.\n",
      "[I 2023-12-06 16:14:17,202] Trial 56 finished with value: 0.9152173913043479 and parameters: {'C': 0.1781110865478534}. Best is trial 30 with value: 0.9173913043478261.\n",
      "[I 2023-12-06 16:14:17,225] Trial 57 finished with value: 0.9086956521739131 and parameters: {'C': 0.03307082782979186}. Best is trial 30 with value: 0.9173913043478261.\n",
      "[I 2023-12-06 16:14:17,251] Trial 58 finished with value: 0.9108695652173913 and parameters: {'C': 0.07356085354414625}. Best is trial 30 with value: 0.9173913043478261.\n",
      "[I 2023-12-06 16:14:17,279] Trial 59 finished with value: 0.9152173913043479 and parameters: {'C': 0.46559587638054756}. Best is trial 30 with value: 0.9173913043478261.\n",
      "[I 2023-12-06 16:14:17,312] Trial 60 finished with value: 0.9108695652173913 and parameters: {'C': 1.365845861189512}. Best is trial 30 with value: 0.9173913043478261.\n",
      "[I 2023-12-06 16:14:17,327] Trial 61 finished with value: 0.9152173913043479 and parameters: {'C': 0.24856058440504558}. Best is trial 30 with value: 0.9173913043478261.\n",
      "[I 2023-12-06 16:14:17,367] Trial 62 finished with value: 0.9173913043478261 and parameters: {'C': 0.3268086963978135}. Best is trial 30 with value: 0.9173913043478261.\n",
      "[I 2023-12-06 16:14:17,393] Trial 63 finished with value: 0.9152173913043479 and parameters: {'C': 0.15539629660569204}. Best is trial 30 with value: 0.9173913043478261.\n",
      "[I 2023-12-06 16:14:17,431] Trial 64 finished with value: 0.9130434782608695 and parameters: {'C': 0.7467993318303419}. Best is trial 30 with value: 0.9173913043478261.\n",
      "[I 2023-12-06 16:14:17,463] Trial 65 finished with value: 0.9173913043478261 and parameters: {'C': 0.3692760253284563}. Best is trial 30 with value: 0.9173913043478261.\n",
      "[I 2023-12-06 16:14:17,477] Trial 66 finished with value: 0.9108695652173913 and parameters: {'C': 0.08093123769983412}. Best is trial 30 with value: 0.9173913043478261.\n",
      "[I 2023-12-06 16:14:17,524] Trial 67 finished with value: 0.9130434782608695 and parameters: {'C': 2.286269587387399}. Best is trial 30 with value: 0.9173913043478261.\n",
      "[I 2023-12-06 16:14:17,547] Trial 68 finished with value: 0.9152173913043479 and parameters: {'C': 0.16196842851203533}. Best is trial 30 with value: 0.9173913043478261.\n",
      "[I 2023-12-06 16:14:17,583] Trial 69 finished with value: 0.9108695652173913 and parameters: {'C': 1.0148830227139551}. Best is trial 30 with value: 0.9173913043478261.\n",
      "[I 2023-12-06 16:14:17,612] Trial 70 finished with value: 0.9108695652173913 and parameters: {'C': 0.042468301929346974}. Best is trial 30 with value: 0.9173913043478261.\n",
      "[I 2023-12-06 16:14:17,646] Trial 71 finished with value: 0.9173913043478261 and parameters: {'C': 0.3149839845866417}. Best is trial 30 with value: 0.9173913043478261.\n",
      "[I 2023-12-06 16:14:17,680] Trial 72 finished with value: 0.9152173913043479 and parameters: {'C': 0.45708301699231413}. Best is trial 30 with value: 0.9173913043478261.\n",
      "[I 2023-12-06 16:14:17,707] Trial 73 finished with value: 0.9152173913043479 and parameters: {'C': 0.2065081171059457}. Best is trial 30 with value: 0.9173913043478261.\n",
      "[I 2023-12-06 16:14:17,730] Trial 74 finished with value: 0.9108695652173913 and parameters: {'C': 0.08244838149455963}. Best is trial 30 with value: 0.9173913043478261.\n",
      "[I 2023-12-06 16:14:17,765] Trial 75 finished with value: 0.9130434782608695 and parameters: {'C': 0.7982407243343357}. Best is trial 30 with value: 0.9173913043478261.\n",
      "[I 2023-12-06 16:14:17,794] Trial 76 finished with value: 0.9152173913043479 and parameters: {'C': 0.541179429715523}. Best is trial 30 with value: 0.9173913043478261.\n",
      "[I 2023-12-06 16:14:17,824] Trial 77 finished with value: 0.9152173913043479 and parameters: {'C': 0.25814635605361835}. Best is trial 30 with value: 0.9173913043478261.\n",
      "[I 2023-12-06 16:14:17,863] Trial 78 finished with value: 0.9108695652173913 and parameters: {'C': 1.4636889259441535}. Best is trial 30 with value: 0.9173913043478261.\n",
      "[I 2023-12-06 16:14:17,894] Trial 79 finished with value: 0.9130434782608695 and parameters: {'C': 3.9804432961823184}. Best is trial 30 with value: 0.9173913043478261.\n",
      "[I 2023-12-06 16:14:17,926] Trial 80 finished with value: 0.9152173913043479 and parameters: {'C': 0.12783936760350184}. Best is trial 30 with value: 0.9173913043478261.\n",
      "[I 2023-12-06 16:14:17,958] Trial 81 finished with value: 0.9173913043478261 and parameters: {'C': 0.41690117680934335}. Best is trial 30 with value: 0.9173913043478261.\n",
      "[I 2023-12-06 16:14:17,979] Trial 82 finished with value: 0.9173913043478261 and parameters: {'C': 0.31751982191629513}. Best is trial 30 with value: 0.9173913043478261.\n",
      "[I 2023-12-06 16:14:18,022] Trial 83 finished with value: 0.9130434782608695 and parameters: {'C': 0.9377681854523414}. Best is trial 30 with value: 0.9173913043478261.\n",
      "[I 2023-12-06 16:14:18,057] Trial 84 finished with value: 0.9152173913043479 and parameters: {'C': 0.6263123848511525}. Best is trial 30 with value: 0.9173913043478261.\n",
      "[I 2023-12-06 16:14:18,080] Trial 85 finished with value: 0.9152173913043479 and parameters: {'C': 0.19045436705891408}. Best is trial 30 with value: 0.9173913043478261.\n",
      "[I 2023-12-06 16:14:18,112] Trial 86 finished with value: 0.9130434782608695 and parameters: {'C': 2.190283985001496}. Best is trial 30 with value: 0.9173913043478261.\n",
      "[I 2023-12-06 16:14:18,146] Trial 87 finished with value: 0.9108695652173913 and parameters: {'C': 0.05547200102117282}. Best is trial 30 with value: 0.9173913043478261.\n",
      "[I 2023-12-06 16:14:18,181] Trial 88 finished with value: 0.9173913043478261 and parameters: {'C': 0.38390558277719494}. Best is trial 30 with value: 0.9173913043478261.\n",
      "[I 2023-12-06 16:14:18,226] Trial 89 finished with value: 0.9152173913043479 and parameters: {'C': 0.14328418175626492}. Best is trial 30 with value: 0.9173913043478261.\n",
      "[I 2023-12-06 16:14:18,260] Trial 90 finished with value: 0.9108695652173913 and parameters: {'C': 1.1186666322065024}. Best is trial 30 with value: 0.9173913043478261.\n",
      "[I 2023-12-06 16:14:18,279] Trial 91 finished with value: 0.9173913043478261 and parameters: {'C': 0.3791563869086669}. Best is trial 30 with value: 0.9173913043478261.\n",
      "[I 2023-12-06 16:14:18,316] Trial 92 finished with value: 0.9152173913043479 and parameters: {'C': 0.283822222670672}. Best is trial 30 with value: 0.9173913043478261.\n",
      "[I 2023-12-06 16:14:18,349] Trial 93 finished with value: 0.9152173913043479 and parameters: {'C': 0.5863503347305393}. Best is trial 30 with value: 0.9173913043478261.\n",
      "[I 2023-12-06 16:14:18,376] Trial 94 finished with value: 0.9130434782608695 and parameters: {'C': 0.10704292334518838}. Best is trial 30 with value: 0.9173913043478261.\n",
      "[I 2023-12-06 16:14:18,402] Trial 95 finished with value: 0.9152173913043479 and parameters: {'C': 0.22081624246392148}. Best is trial 30 with value: 0.9173913043478261.\n",
      "[I 2023-12-06 16:14:18,444] Trial 96 finished with value: 0.9108695652173913 and parameters: {'C': 1.6000859841690767}. Best is trial 30 with value: 0.9173913043478261.\n",
      "[I 2023-12-06 16:14:18,466] Trial 97 finished with value: 0.9108695652173913 and parameters: {'C': 0.0775021647080766}. Best is trial 30 with value: 0.9173913043478261.\n",
      "[I 2023-12-06 16:14:18,495] Trial 98 finished with value: 0.9130434782608695 and parameters: {'C': 0.7221246628112359}. Best is trial 30 with value: 0.9173913043478261.\n",
      "[I 2023-12-06 16:14:18,535] Trial 99 finished with value: 0.9173913043478261 and parameters: {'C': 0.3347337089383758}. Best is trial 30 with value: 0.9173913043478261.\n"
     ]
    }
   ],
   "source": [
    "import optuna\n",
    "from sklearn.linear_model import LogisticRegression\n",
    "from sklearn.model_selection import cross_val_score\n",
    "\n",
    "def objective(trial):\n",
    "    # Hyperparameters to be tuned\n",
    "    C = trial.suggest_float('C', 1e-4, 1e4, log=True)\n",
    "    \n",
    "    # Logistic Regression model with increased max_iter\n",
    "    model = LogisticRegression(C=C, max_iter=1000, random_state=42)\n",
    "    \n",
    "    # Cross-validation\n",
    "    score = cross_val_score(model, X_train, y_train, cv=5, scoring='accuracy').mean()\n",
    "    \n",
    "    return score\n",
    "\n",
    "# Create a study object and specify the optimization direction as maximizing accuracy\n",
    "study = optuna.create_study(direction='maximize')\n",
    "study.optimize(objective, n_trials=100)"
   ]
  },
  {
   "cell_type": "markdown",
   "id": "154fb47a",
   "metadata": {},
   "source": [
    "# Step 5: Output the Best Hyperparameters"
   ]
  },
  {
   "cell_type": "code",
   "execution_count": 11,
   "id": "9bca2eec",
   "metadata": {},
   "outputs": [
    {
     "name": "stdout",
     "output_type": "stream",
     "text": [
      "Best Parameters: {'C': 0.3495200485853912}\n"
     ]
    }
   ],
   "source": [
    "# Best hyperparameters\n",
    "best_params = study.best_params\n",
    "print('Best Parameters:', best_params)"
   ]
  },
  {
   "cell_type": "markdown",
   "id": "4181cdaa",
   "metadata": {},
   "source": [
    "# Step 6: Train the Model with the Best Parameters Found"
   ]
  },
  {
   "cell_type": "code",
   "execution_count": 12,
   "id": "4ae4018e",
   "metadata": {},
   "outputs": [
    {
     "data": {
      "text/html": [
       "<style>#sk-container-id-1 {color: black;background-color: white;}#sk-container-id-1 pre{padding: 0;}#sk-container-id-1 div.sk-toggleable {background-color: white;}#sk-container-id-1 label.sk-toggleable__label {cursor: pointer;display: block;width: 100%;margin-bottom: 0;padding: 0.3em;box-sizing: border-box;text-align: center;}#sk-container-id-1 label.sk-toggleable__label-arrow:before {content: \"▸\";float: left;margin-right: 0.25em;color: #696969;}#sk-container-id-1 label.sk-toggleable__label-arrow:hover:before {color: black;}#sk-container-id-1 div.sk-estimator:hover label.sk-toggleable__label-arrow:before {color: black;}#sk-container-id-1 div.sk-toggleable__content {max-height: 0;max-width: 0;overflow: hidden;text-align: left;background-color: #f0f8ff;}#sk-container-id-1 div.sk-toggleable__content pre {margin: 0.2em;color: black;border-radius: 0.25em;background-color: #f0f8ff;}#sk-container-id-1 input.sk-toggleable__control:checked~div.sk-toggleable__content {max-height: 200px;max-width: 100%;overflow: auto;}#sk-container-id-1 input.sk-toggleable__control:checked~label.sk-toggleable__label-arrow:before {content: \"▾\";}#sk-container-id-1 div.sk-estimator input.sk-toggleable__control:checked~label.sk-toggleable__label {background-color: #d4ebff;}#sk-container-id-1 div.sk-label input.sk-toggleable__control:checked~label.sk-toggleable__label {background-color: #d4ebff;}#sk-container-id-1 input.sk-hidden--visually {border: 0;clip: rect(1px 1px 1px 1px);clip: rect(1px, 1px, 1px, 1px);height: 1px;margin: -1px;overflow: hidden;padding: 0;position: absolute;width: 1px;}#sk-container-id-1 div.sk-estimator {font-family: monospace;background-color: #f0f8ff;border: 1px dotted black;border-radius: 0.25em;box-sizing: border-box;margin-bottom: 0.5em;}#sk-container-id-1 div.sk-estimator:hover {background-color: #d4ebff;}#sk-container-id-1 div.sk-parallel-item::after {content: \"\";width: 100%;border-bottom: 1px solid gray;flex-grow: 1;}#sk-container-id-1 div.sk-label:hover label.sk-toggleable__label {background-color: #d4ebff;}#sk-container-id-1 div.sk-serial::before {content: \"\";position: absolute;border-left: 1px solid gray;box-sizing: border-box;top: 0;bottom: 0;left: 50%;z-index: 0;}#sk-container-id-1 div.sk-serial {display: flex;flex-direction: column;align-items: center;background-color: white;padding-right: 0.2em;padding-left: 0.2em;position: relative;}#sk-container-id-1 div.sk-item {position: relative;z-index: 1;}#sk-container-id-1 div.sk-parallel {display: flex;align-items: stretch;justify-content: center;background-color: white;position: relative;}#sk-container-id-1 div.sk-item::before, #sk-container-id-1 div.sk-parallel-item::before {content: \"\";position: absolute;border-left: 1px solid gray;box-sizing: border-box;top: 0;bottom: 0;left: 50%;z-index: -1;}#sk-container-id-1 div.sk-parallel-item {display: flex;flex-direction: column;z-index: 1;position: relative;background-color: white;}#sk-container-id-1 div.sk-parallel-item:first-child::after {align-self: flex-end;width: 50%;}#sk-container-id-1 div.sk-parallel-item:last-child::after {align-self: flex-start;width: 50%;}#sk-container-id-1 div.sk-parallel-item:only-child::after {width: 0;}#sk-container-id-1 div.sk-dashed-wrapped {border: 1px dashed gray;margin: 0 0.4em 0.5em 0.4em;box-sizing: border-box;padding-bottom: 0.4em;background-color: white;}#sk-container-id-1 div.sk-label label {font-family: monospace;font-weight: bold;display: inline-block;line-height: 1.2em;}#sk-container-id-1 div.sk-label-container {text-align: center;}#sk-container-id-1 div.sk-container {/* jupyter's `normalize.less` sets `[hidden] { display: none; }` but bootstrap.min.css set `[hidden] { display: none !important; }` so we also need the `!important` here to be able to override the default hidden behavior on the sphinx rendered scikit-learn.org. See: https://github.com/scikit-learn/scikit-learn/issues/21755 */display: inline-block !important;position: relative;}#sk-container-id-1 div.sk-text-repr-fallback {display: none;}</style><div id=\"sk-container-id-1\" class=\"sk-top-container\"><div class=\"sk-text-repr-fallback\"><pre>LogisticRegression(C=0.3495200485853912, random_state=42)</pre><b>In a Jupyter environment, please rerun this cell to show the HTML representation or trust the notebook. <br />On GitHub, the HTML representation is unable to render, please try loading this page with nbviewer.org.</b></div><div class=\"sk-container\" hidden><div class=\"sk-item\"><div class=\"sk-estimator sk-toggleable\"><input class=\"sk-toggleable__control sk-hidden--visually\" id=\"sk-estimator-id-1\" type=\"checkbox\" checked><label for=\"sk-estimator-id-1\" class=\"sk-toggleable__label sk-toggleable__label-arrow\">LogisticRegression</label><div class=\"sk-toggleable__content\"><pre>LogisticRegression(C=0.3495200485853912, random_state=42)</pre></div></div></div></div></div>"
      ],
      "text/plain": [
       "LogisticRegression(C=0.3495200485853912, random_state=42)"
      ]
     },
     "execution_count": 12,
     "metadata": {},
     "output_type": "execute_result"
    }
   ],
   "source": [
    "# Train the model with the best parameters found\n",
    "model_best = LogisticRegression(**best_params, random_state=42)\n",
    "model_best.fit(X_train, y_train)"
   ]
  },
  {
   "cell_type": "markdown",
   "id": "d34b2ffc",
   "metadata": {},
   "source": [
    "# Step 7: Predictions and Performance Evaluation"
   ]
  },
  {
   "cell_type": "code",
   "execution_count": 13,
   "id": "0012ac0a",
   "metadata": {},
   "outputs": [
    {
     "name": "stdout",
     "output_type": "stream",
     "text": [
      "Classification Report:\n",
      "               precision    recall  f1-score   support\n",
      "\n",
      "           0       0.82      0.97      0.89        63\n",
      "           1       0.95      0.75      0.84        53\n",
      "\n",
      "    accuracy                           0.87       116\n",
      "   macro avg       0.89      0.86      0.87       116\n",
      "weighted avg       0.88      0.87      0.87       116\n",
      "\n",
      "Confusion Matrix:\n",
      " [[61  2]\n",
      " [13 40]]\n",
      "Accuracy Score: 0.8706896551724138\n"
     ]
    }
   ],
   "source": [
    "from sklearn.metrics import classification_report, confusion_matrix, accuracy_score\n",
    "\n",
    "# Predictions\n",
    "y_pred = model_best.predict(X_test)\n",
    "\n",
    "# Performance Evaluation\n",
    "print('Classification Report:\\n', classification_report(y_test, y_pred))\n",
    "print('Confusion Matrix:\\n', confusion_matrix(y_test, y_pred))\n",
    "print('Accuracy Score:', accuracy_score(y_test, y_pred))"
   ]
  },
  {
   "cell_type": "markdown",
   "id": "9de1e9db",
   "metadata": {},
   "source": [
    "# Step 8: Show Feature Importance"
   ]
  },
  {
   "cell_type": "code",
   "execution_count": 18,
   "id": "0c05c50f",
   "metadata": {},
   "outputs": [
    {
     "name": "stdout",
     "output_type": "stream",
     "text": [
      "Feature Importance (in decreasing order of impact):\n",
      "                       importance  abs_importance\n",
      "nums/length username    1.532483        1.532483\n",
      "name==username          0.560643        0.560643\n",
      "nums/length fullname    0.166220        0.166220\n",
      "private                -0.072266        0.072266\n",
      "#followers             -0.207122        0.207122\n",
      "#follows               -0.209910        0.209910\n",
      "fullname words         -0.276121        0.276121\n",
      "description length     -0.478877        0.478877\n",
      "external URL           -0.781232        0.781232\n",
      "#posts                 -1.313050        1.313050\n",
      "profile pic            -1.690651        1.690651\n"
     ]
    }
   ],
   "source": [
    "# Sorting the features based on the original value in descending order\n",
    "feature_importance_sorted = feature_importance.sort_values(by='importance', ascending=False)\n",
    "\n",
    "# Display the sorted feature importance\n",
    "print('Feature Importance (in decreasing order of impact):\\n', feature_importance_sorted)"
   ]
  },
  {
   "cell_type": "code",
   "execution_count": null,
   "id": "4e7f56d5",
   "metadata": {},
   "outputs": [],
   "source": []
  }
 ],
 "metadata": {
  "kernelspec": {
   "display_name": "Python 3 (ipykernel)",
   "language": "python",
   "name": "python3"
  },
  "language_info": {
   "codemirror_mode": {
    "name": "ipython",
    "version": 3
   },
   "file_extension": ".py",
   "mimetype": "text/x-python",
   "name": "python",
   "nbconvert_exporter": "python",
   "pygments_lexer": "ipython3",
   "version": "3.10.9"
  }
 },
 "nbformat": 4,
 "nbformat_minor": 5
}
